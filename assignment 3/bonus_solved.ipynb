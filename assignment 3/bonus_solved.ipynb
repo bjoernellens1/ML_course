{
 "cells": [
  {
   "cell_type": "markdown",
   "metadata": {
    "collapsed": false
   },
   "source": [
    "## Bonus Exercise: Bayes' Rule\n",
    "### Description\n",
    "In this exercise, you will implement Bayes' rule to solve a simple card game."
   ]
  },
  {
   "cell_type": "code",
   "execution_count": 8,
   "metadata": {
    "collapsed": false
   },
   "outputs": [],
   "source": [
    "import random\n",
    "\n",
    "class CardDeck:\n",
    "    def __init__(self):\n",
    "        # Initialize the deck of cards\n",
    "        self.cards = ['R', 'R', 'B', 'B']\n",
    "        # Shuffle the deck of cards\n",
    "        random.shuffle(self.cards)\n",
    "        # Initialize the prior probability\n",
    "        self.prior_red = 0.5\n",
    "        self.likelihood = 0.5\n",
    "\n",
    "\n",
    "    def draw_card(self, index):\n",
    "        \"\"\"\n",
    "        Draw a card from the deck\n",
    "        :param index: the index of the card to be drawn\n",
    "        :return: the card and its color\n",
    "        \"\"\"\n",
    "        card = self.cards.pop(index)\n",
    "        color = 'Red' if card == 'R' else 'Black'\n",
    "        return (card, color)\n",
    "\n",
    "    def get_card_color(self, index):\n",
    "        \"\"\"\n",
    "        Get the color of a card\n",
    "        :return: the color of the card\n",
    "        \"\"\"\n",
    "        card = self.cards[index]\n",
    "        color = 'Red' if card == 'R' else 'Black'\n",
    "        return color\n",
    "\n",
    "    def get_remainder(self):\n",
    "        \"\"\"\n",
    "        Get the remainder deck\n",
    "        :return: the remainder deck\n",
    "        \"\"\"\n",
    "        return self.cards\n",
    "\n",
    "    \"\"\"\n",
    "    Update the prior probability based on Bayes' rule\n",
    "    function name: update_probabilities\n",
    "    \"\"\"\n",
    "    def update_probabilities(self, card_color):\n",
    "        \"\"\"\n",
    "        Update the prior probability based on Bayes' rule\n",
    "        :param card_color: the color of the card drawn\n",
    "        \"\"\"\n",
    "        if card_color == 'Red':\n",
    "            self.prior_red = self.get_posterior('Red')\n",
    "        elif card_color == 'Black':\n",
    "            self.prior_red = self.get_posterior('Black')\n",
    "\n",
    "    \"\"\"\n",
    "    Calculate the posterior probability based on the prior probability, likelihood, and marginal likelihood\n",
    "    function name: get_posterior\n",
    "    \"\"\"\n",
    "    def get_posterior(self, card_color):\n",
    "        \"\"\"\n",
    "        Calculate the posterior probability based on the prior probability, likelihood, and marginal likelihood\n",
    "        :param card_color: the color of the card drawn\n",
    "        :return: the posterior probability of drawing a red card or a black card\n",
    "        \"\"\"\n",
    "        likelihood = self.get_likelihood(card_color)\n",
    "        marginal_likelihood = self.get_marginal_likelihood(card_color)\n",
    "        posterior = (self.prior_red * likelihood) / marginal_likelihood\n",
    "        return posterior\n",
    "\n",
    "    def get_likelihood(self, card_color):\n",
    "        \"\"\"\n",
    "        Calculate the likelihood of drawing a certain card (red or black) given the color of the card already drawn\n",
    "        :param card_color: the color of the card drawn\n",
    "        :return: the likelihood of drawing a certain card (red or black) given the color of the card already drawn\n",
    "        \"\"\"\n",
    "        if card_color == 'Red':\n",
    "            num_red_cards = self.cards.count('R')\n",
    "            num_cards = len(self.cards)\n",
    "            return num_red_cards / num_cards\n",
    "        elif card_color == 'Black':\n",
    "            num_black_cards = self.cards.count('B')\n",
    "            num_cards = len(self.cards)\n",
    "            return num_black_cards / num_cards\n",
    "\n",
    "    def get_marginal_likelihood(self, card_color):\n",
    "        \"\"\"\n",
    "        Calculate the marginal likelihood of drawing a certain card (red or black) regardless of the color of the card already drawn\n",
    "        :param card_color: the color of the card drawn\n",
    "        :return: the marginal likelihood of drawing a certain card (red or black) regardless of the color of the card already drawn\n",
    "        \"\"\"\n",
    "        if card_color == 'Red':\n",
    "            num_red_cards = self.cards.count('R')\n",
    "            num_black_cards = self.cards.count('B')\n",
    "            return (self.prior_red * num_red_cards / len(self.cards)) + ((1 - self.prior_red) * num_black_cards / len(self.cards))\n",
    "        elif card_color == 'Black':\n",
    "            num_red_cards = self.cards.count('R')\n",
    "            num_black_cards = self.cards.count('B')\n",
    "            return ((1 - self.prior_red) * num_red_cards / len(self.cards)) + (self.prior_red * num_black_cards / len(self.cards))\n",
    "\n",
    "\n",
    "    def play_game(self):\n",
    "        while self.cards:\n",
    "            for i, card in enumerate(self.cards):\n",
    "                print(f'{i}: Unknown')\n",
    "             # only one card left\n",
    "            if len(self.cards) == 1:\n",
    "                # code missing here\n",
    "                self.cards.pop()\n",
    "            else:\n",
    "                index = int(input(f\"Remainder deck: {self.get_remainder()}\\nEnter the index of the card you want to draw:\"))\n",
    "                card, color = self.draw_card(index-1)\n",
    "                print(f'You drew a {color} card with value {card}')\n",
    "\n",
    "                # Calculate the likelihood and marginal likelihood based on the color of the drawn card\n",
    "                self.get_likelihood(color)\n",
    "                self.get_marginal_likelihood(color)\n",
    "\n",
    "            # Update the prior probability based on Bayes' rule\n",
    "            self.update_probabilities(color)\n",
    "            posterior_red = self.get_posterior('Red')  # you must calculate this value\n",
    "            posterior_black = self.get_posterior('Black') # you must calculate this value\n",
    "            # Print the posterior probabilities\n",
    "            print(f\"After drawing a {card} card:\")\n",
    "            print(f\"The probability that the other card is red: {posterior_red:.2f}\")\n",
    "            print(f\"The probability that the other card is black: {posterior_black:.2f}\")\n",
    "        print(\"The deck is empty.\")\n",
    "\n",
    "\n"
   ]
  },
  {
   "cell_type": "markdown",
   "metadata": {
    "collapsed": false
   },
   "source": [
    "play the game by running the following code:\n"
   ]
  },
  {
   "cell_type": "code",
   "execution_count": 9,
   "metadata": {
    "collapsed": false
   },
   "outputs": [
    {
     "name": "stdout",
     "output_type": "stream",
     "text": [
      "0: Unknown\n",
      "1: Unknown\n",
      "2: Unknown\n",
      "3: Unknown\n",
      "You drew a Red card with value R\n",
      "After drawing a R card:\n",
      "The probability that the other card is red: 0.20\n",
      "The probability that the other card is black: 0.50\n",
      "0: Unknown\n",
      "1: Unknown\n",
      "2: Unknown\n",
      "You drew a Red card with value R\n"
     ]
    },
    {
     "ename": "ZeroDivisionError",
     "evalue": "float division by zero",
     "output_type": "error",
     "traceback": [
      "\u001b[0;31m---------------------------------------------------------------------------\u001b[0m",
      "\u001b[0;31mZeroDivisionError\u001b[0m                         Traceback (most recent call last)",
      "Cell \u001b[0;32mIn[9], line 2\u001b[0m\n\u001b[1;32m      1\u001b[0m deck \u001b[39m=\u001b[39m CardDeck()\n\u001b[0;32m----> 2\u001b[0m deck\u001b[39m.\u001b[39;49mplay_game()\n",
      "Cell \u001b[0;32mIn[8], line 120\u001b[0m, in \u001b[0;36mCardDeck.play_game\u001b[0;34m(self)\u001b[0m\n\u001b[1;32m    118\u001b[0m \u001b[39mself\u001b[39m\u001b[39m.\u001b[39mupdate_probabilities(color)\n\u001b[1;32m    119\u001b[0m posterior_red \u001b[39m=\u001b[39m \u001b[39mself\u001b[39m\u001b[39m.\u001b[39mget_posterior(\u001b[39m'\u001b[39m\u001b[39mRed\u001b[39m\u001b[39m'\u001b[39m)  \u001b[39m# you must calculate this value\u001b[39;00m\n\u001b[0;32m--> 120\u001b[0m posterior_black \u001b[39m=\u001b[39m \u001b[39mself\u001b[39;49m\u001b[39m.\u001b[39;49mget_posterior(\u001b[39m'\u001b[39;49m\u001b[39mBlack\u001b[39;49m\u001b[39m'\u001b[39;49m) \u001b[39m# you must calculate this value\u001b[39;00m\n\u001b[1;32m    121\u001b[0m \u001b[39m# Print the posterior probabilities\u001b[39;00m\n\u001b[1;32m    122\u001b[0m \u001b[39mprint\u001b[39m(\u001b[39mf\u001b[39m\u001b[39m\"\u001b[39m\u001b[39mAfter drawing a \u001b[39m\u001b[39m{\u001b[39;00mcard\u001b[39m}\u001b[39;00m\u001b[39m card:\u001b[39m\u001b[39m\"\u001b[39m)\n",
      "Cell \u001b[0;32mIn[8], line 66\u001b[0m, in \u001b[0;36mCardDeck.get_posterior\u001b[0;34m(self, card_color)\u001b[0m\n\u001b[1;32m     64\u001b[0m likelihood \u001b[39m=\u001b[39m \u001b[39mself\u001b[39m\u001b[39m.\u001b[39mget_likelihood(card_color)\n\u001b[1;32m     65\u001b[0m marginal_likelihood \u001b[39m=\u001b[39m \u001b[39mself\u001b[39m\u001b[39m.\u001b[39mget_marginal_likelihood(card_color)\n\u001b[0;32m---> 66\u001b[0m posterior \u001b[39m=\u001b[39m (\u001b[39mself\u001b[39;49m\u001b[39m.\u001b[39;49mprior_red \u001b[39m*\u001b[39;49m likelihood) \u001b[39m/\u001b[39;49m marginal_likelihood\n\u001b[1;32m     67\u001b[0m \u001b[39mreturn\u001b[39;00m posterior\n",
      "\u001b[0;31mZeroDivisionError\u001b[0m: float division by zero"
     ]
    }
   ],
   "source": [
    "deck = CardDeck()\n",
    "deck.play_game()\n"
   ]
  },
  {
   "cell_type": "markdown",
   "metadata": {
    "collapsed": false
   },
   "source": []
  },
  {
   "cell_type": "code",
   "execution_count": null,
   "metadata": {
    "collapsed": false
   },
   "outputs": [],
   "source": []
  }
 ],
 "metadata": {
  "kernelspec": {
   "display_name": "Python 3",
   "language": "python",
   "name": "python3"
  },
  "language_info": {
   "codemirror_mode": {
    "name": "ipython",
    "version": 3
   },
   "file_extension": ".py",
   "mimetype": "text/x-python",
   "name": "python",
   "nbconvert_exporter": "python",
   "pygments_lexer": "ipython3",
   "version": "3.10.4"
  }
 },
 "nbformat": 4,
 "nbformat_minor": 0
}
