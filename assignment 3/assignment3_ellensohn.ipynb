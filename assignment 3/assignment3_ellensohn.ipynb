{
 "cells": [
  {
   "attachments": {},
   "cell_type": "markdown",
   "metadata": {},
   "source": [
    "# Part One: Abstract Class"
   ]
  },
  {
   "attachments": {},
   "cell_type": "markdown",
   "metadata": {},
   "source": [
    "New Class named GassDistribution: Inherits from ContinousDistribution.\n",
    "In this implementation, GaussDistribution inherits from ContinuousDistribution and provides concrete implementations for all its abstract methods. The constructor takes an optional dim parameter, which sets the dimension of the multivariate distribution (default value is 1).\n",
    "\n",
    "The import_data and export_data methods are left unimplemented in this example, as they are not specific to the Gaussian distribution and can be implemented differently for different types of distributions.\n",
    "\n",
    "The compute_mean method calculates the mean of the data and updates the mean attribute of the Gaussian distribution. Similarly, the compute_standard_deviation method calculates the covariance matrix of the data and updates the covariance attribute of the Gaussian distribution.\n",
    "\n",
    "The visualize method generates a random sample of data from the Gaussian distribution using the multivariate_normal.rvs function from the scipy.stats module. If the data parameter is not provided, it uses this random sample to visualize the distribution. Otherwise, it visualizes the provided data.\n",
    "\n",
    "The generate_samples method generates a given number of random samples from the Gaussian distribution using the multivariate_normal.rvs function and returns them."
   ]
  },
  {
   "cell_type": "code",
   "execution_count": 112,
   "metadata": {},
   "outputs": [],
   "source": [
    "import abc\n",
    "\n",
    "class ContinuousDistribution(metaclass=abc.ABCMeta):\n",
    "    @abc.abstractmethod\n",
    "    def import_data(self, file_path):\n",
    "        pass\n",
    "    \n",
    "    @abc.abstractmethod\n",
    "    def export_data(self, data, file_path):\n",
    "        pass\n",
    "    \n",
    "    @abc.abstractmethod\n",
    "    def compute_mean(self, data):\n",
    "        pass\n",
    "    \n",
    "    @abc.abstractmethod\n",
    "    def compute_standard_deviation(self, data):\n",
    "        pass\n",
    "    \n",
    "    @abc.abstractmethod\n",
    "    def visualize(self, data=None):\n",
    "        pass\n",
    "    \n",
    "    @abc.abstractmethod\n",
    "    def generate_samples(self, n_samples):\n",
    "        pass"
   ]
  },
  {
   "attachments": {},
   "cell_type": "markdown",
   "metadata": {},
   "source": [
    "# Part Two: Inherit class GaussianDistribution"
   ]
  },
  {
   "cell_type": "code",
   "execution_count": 113,
   "metadata": {},
   "outputs": [],
   "source": [
    "import numpy as np\n",
    "import matplotlib\n",
    "import matplotlib.pyplot as plt\n",
    "from mpl_toolkits.mplot3d import Axes3D\n",
    "from scipy.stats import multivariate_normal\n",
    "import pandas as pd\n",
    "\n",
    "matplotlib.use(\"pgf\")\n",
    "matplotlib.rcParams.update({\n",
    "    \"pgf.texsystem\": \"pdflatex\",\n",
    "    'font.family': 'serif',\n",
    "    'text.usetex': True,\n",
    "    'pgf.rcfonts': False,\n",
    "})\n",
    "\n",
    "class GaussDistribution(ContinuousDistribution):\n",
    "    def __init__(self, dim=1):\n",
    "        self.dim = dim\n",
    "        self.mean = np.zeros(dim)\n",
    "        self.covariance = np.eye(dim)\n",
    "        self.data = pd.DataFrame()\n",
    "        self.samples = None\n",
    "    \n",
    "    def import_data(self, file_path):\n",
    "        # implementation to import data from file\n",
    "        self.data = pd.read_csv(file_path)\n",
    "    \n",
    "    def export_data(self, data, file_path):\n",
    "        # implementation to export data to file\n",
    "        df = pd.DataFrame(data)\n",
    "        df.to_csv(file_path)\n",
    "    \n",
    "    def compute_mean(self, data):\n",
    "        self.mean = np.mean(data, axis=0)\n",
    "    \n",
    "    def compute_standard_deviation(self, data):\n",
    "        self.covariance = np.cov(data, rowvar=False)\n",
    "    \n",
    "    def visualize(self, data=None):\n",
    "        if data is None:\n",
    "            data = multivariate_normal.rvs(mean=self.mean, cov=self.covariance, size=1000)\n",
    "        \n",
    "        if self.dim == 1:\n",
    "            mean = 0\n",
    "            covariance = 0.8\n",
    "            #plt.hist(data, density=True, alpha=0.5)\n",
    "            x = np.linspace(mean - 3*np.sqrt(covariance), mean + 3*np.sqrt(covariance), 100)\n",
    "            plt.plot(x, multivariate_normal.pdf(x, mean=mean, cov=covariance), color = 'orange')\n",
    "            plt.title(f'1D Gaussian Distribution with a mean of {mean} and a covariance of {covariance}')\n",
    "            plt.show()\n",
    "            plt.savefig('gaussian1D.pgf')\n",
    "            \n",
    "        elif self.dim == 2:\n",
    "            covariance = np.array([[1, 0.8],\n",
    "                                     [0.8, 1]])\n",
    "            mean = np.array([0, 0])\n",
    "            x, y = np.mgrid[mean[0]-3*np.sqrt(covariance[0,0]):mean[0]+3*np.sqrt(covariance[0,0]):.01,\n",
    "                            mean[1]-3*np.sqrt(covariance[1,1]):mean[1]+3*np.sqrt(covariance[1,1]):.01]\n",
    "            pos = np.empty(x.shape + (2,))\n",
    "            pos[:, :, 0] = x\n",
    "            pos[:, :, 1] = y\n",
    "            rv = multivariate_normal(mean, covariance)\n",
    "            # fig, ax = plt.subplots()\n",
    "            # ax.contourf(x, y, rv.pdf(pos), cmap='viridis')\n",
    "\n",
    "            # Generating the density function\n",
    "            # for each point in the meshgrid\n",
    "            pdf = np.zeros(x.shape)\n",
    "            for i in range(x.shape[0]):\n",
    "                for j in range(x.shape[1]):\n",
    "                    pdf[i,j] = rv.pdf([x[i,j], y[i,j]])\n",
    "            \n",
    "            pdf_list = []\n",
    "            fig = plt.figure()\n",
    "\n",
    "            # Plotting the density function values\n",
    "            bx = fig.add_subplot(131, projection = '3d')\n",
    "            bx.plot_surface(x, y, pdf, cmap = 'viridis')\n",
    "            plt.xlabel(\"x1\")\n",
    "            plt.ylabel(\"x2\")\n",
    "            plt.title(f'2D Gaussian Distribution with a mean of {mean} and a covariance of {covariance}')\n",
    "            pdf_list.append(pdf)\n",
    "            bx.axes.zaxis.set_ticks([])\n",
    "            \n",
    "            plt.tight_layout()\n",
    "            plt.show()\n",
    "            plt.savefig('gaussian2D_surface.pgf')\n",
    "\n",
    "            # Plotting contour plots\n",
    "            for idx, val in enumerate(pdf_list):\n",
    "                plt.subplot(1,3,idx+1)\n",
    "                plt.contourf(x, y, val, cmap='viridis')\n",
    "                plt.xlabel(\"x1\")\n",
    "                plt.ylabel(\"x2\")\n",
    "            plt.tight_layout()\n",
    "            plt.title(f'2D Gaussian Distribution Contour with a mean of {mean} and a covariance of {covariance}')\n",
    "            plt.show()\n",
    "            plt.savefig('gaussian2D_contour.pgf')\n",
    "            \n",
    "        elif self.dim == 3:\n",
    "            fig = plt.figure(figsize=(10, 5))\n",
    "            ax1 = fig.add_subplot(1, 2, 1, projection='3d')\n",
    "            x, y, z = np.mgrid[self.mean[0]-3*np.sqrt(self.covariance[0,0]):self.mean[0]+3*np.sqrt(self.covariance[0,0]):.1,\n",
    "                               self.mean[1]-3*np.sqrt(self.covariance[1,1]):self.mean[1]+3*np.sqrt(self.covariance[1,1]):.1,\n",
    "                               self.mean[2]-3*np.sqrt(self.covariance[2,2]):self.mean[2]+3*np.sqrt(self.covariance[2,2]):.1]\n",
    "            #Plot the samples from the file\n",
    "            #plt.style.use('seaborn-dark')\n",
    "\n",
    "            ax1.scatter(data.iloc[:, 0], data.iloc[:, 1], data.iloc[:, 2], c='blue', alpha=0.5)\n",
    "            ax1.set_xlabel('x')\n",
    "            ax1.set_ylabel('y')\n",
    "            ax1.set_zlabel('z')\n",
    "            ax1.set_title('Data from File')\n",
    "\n",
    "            ax2 = fig.add_subplot(1, 2, 2, projection='3d')\n",
    "            ax2.scatter(self.samples[:, 0], self.samples[:, 1], self.samples[:, 2], c='orange', alpha=0.5)\n",
    "            ax2.set_xlabel('x')\n",
    "            ax2.set_ylabel('y')\n",
    "            ax2.set_zlabel('z')\n",
    "            ax2.set_title('Data from Samples')\n",
    "\n",
    "            plt.savefig('gaussian3D.pgf')\n",
    "            \n",
    "    def generate_samples(self, n_samples):\n",
    "        self.samples = multivariate_normal.rvs(mean=self.mean, cov=self.covariance, size=n_samples)"
   ]
  },
  {
   "cell_type": "code",
   "execution_count": 114,
   "metadata": {},
   "outputs": [],
   "source": [
    "gd = GaussDistribution(dim=3)"
   ]
  },
  {
   "cell_type": "code",
   "execution_count": 115,
   "metadata": {},
   "outputs": [
    {
     "name": "stdout",
     "output_type": "stream",
     "text": [
      "0     1.837130\n",
      "1     1.847345\n",
      "2    -0.769538\n",
      "3     0.027689\n",
      "4     2.195373\n",
      "        ...   \n",
      "95    1.552589\n",
      "96    1.600879\n",
      "97    3.044786\n",
      "98    1.463682\n",
      "99   -0.877454\n",
      "Name: x, Length: 100, dtype: float64\n"
     ]
    }
   ],
   "source": [
    "gd.import_data('MGD.csv')\n",
    "data = gd.data\n",
    "print(data.iloc[:,0])"
   ]
  },
  {
   "cell_type": "code",
   "execution_count": 116,
   "metadata": {},
   "outputs": [],
   "source": [
    "gd.export_data(data, 'out.csv')"
   ]
  },
  {
   "cell_type": "code",
   "execution_count": 117,
   "metadata": {},
   "outputs": [
    {
     "name": "stdout",
     "output_type": "stream",
     "text": [
      "x    0.984026\n",
      "y    0.008833\n",
      "z    0.860115\n",
      "dtype: float64\n"
     ]
    }
   ],
   "source": [
    "gd.compute_mean(data)\n",
    "print(gd.mean)"
   ]
  },
  {
   "cell_type": "code",
   "execution_count": 118,
   "metadata": {},
   "outputs": [
    {
     "name": "stdout",
     "output_type": "stream",
     "text": [
      "[[0.95707677 0.65248406 0.5632227 ]\n",
      " [0.65248406 1.42016015 0.75382979]\n",
      " [0.5632227  0.75382979 1.25559884]]\n"
     ]
    }
   ],
   "source": [
    "gd.compute_standard_deviation(data)\n",
    "print(gd.covariance)"
   ]
  },
  {
   "cell_type": "code",
   "execution_count": 119,
   "metadata": {},
   "outputs": [
    {
     "name": "stdout",
     "output_type": "stream",
     "text": [
      "<class 'numpy.ndarray'>\n"
     ]
    }
   ],
   "source": [
    "gd.generate_samples(100)\n",
    "print(type(gd.samples))"
   ]
  },
  {
   "cell_type": "code",
   "execution_count": 120,
   "metadata": {},
   "outputs": [
    {
     "name": "stdout",
     "output_type": "stream",
     "text": [
      "           x         y         z\n",
      "0   1.837130  2.830783  2.489846\n",
      "1   1.847345  0.540222  0.105313\n",
      "2  -0.769538 -0.960047 -0.548962\n",
      "3   0.027689 -0.138528 -0.095424\n",
      "4   2.195373 -0.348212  1.115202\n",
      "..       ...       ...       ...\n",
      "95  1.552589 -2.819266 -1.448327\n",
      "96  1.600879  1.133391  1.018098\n",
      "97  3.044786  0.552303  1.601142\n",
      "98  1.463682  0.533689  2.428866\n",
      "99 -0.877454 -0.831181  1.295999\n",
      "\n",
      "[100 rows x 3 columns]\n"
     ]
    }
   ],
   "source": [
    "gd.visualize(gd.data)\n",
    "print(gd.data)"
   ]
  },
  {
   "cell_type": "code",
   "execution_count": 121,
   "metadata": {},
   "outputs": [],
   "source": [
    "gd2 = GaussDistribution(dim=2)\n",
    "gd2.visualize()\n"
   ]
  },
  {
   "cell_type": "code",
   "execution_count": 122,
   "metadata": {},
   "outputs": [],
   "source": [
    "gd1 = GaussDistribution(dim=1)\n",
    "gd1.visualize()"
   ]
  },
  {
   "attachments": {},
   "cell_type": "markdown",
   "metadata": {},
   "source": [
    "Next is for 2D Gaussian plot. Done by 3D surface plot of the density function and the contour plot of the density function.\n"
   ]
  },
  {
   "cell_type": "code",
   "execution_count": 123,
   "metadata": {},
   "outputs": [
    {
     "name": "stderr",
     "output_type": "stream",
     "text": [
      "/tmp/ipykernel_25606/3043150258.py:7: MatplotlibDeprecationWarning: The seaborn styles shipped by Matplotlib are deprecated since 3.6, as they no longer correspond to the styles shipped by seaborn. However, they will remain available as 'seaborn-v0_8-<style>'. Alternatively, directly use the seaborn API instead.\n",
      "  plt.style.use('seaborn-dark')\n"
     ]
    }
   ],
   "source": [
    "# Importing the necessary modules\n",
    "import numpy as np\n",
    "import matplotlib.pyplot as plt\n",
    "from scipy.stats import multivariate_normal\n",
    "\n",
    "\n",
    "plt.style.use('seaborn-dark')\n",
    "plt.rcParams['figure.figsize']=14,6\n",
    "fig = plt.figure()\n",
    "\n",
    "# Initializing the random seed\n",
    "random_seed=1000\n",
    "\n",
    "# List containing the variance\n",
    "# covariance values\n",
    "cov_val = [-0.8, 0, 0.8]\n",
    "\n",
    "# Setting mean of the distributino\n",
    "# to be at (0,0)\n",
    "mean = np.array([0,0])\n",
    "\n",
    "# Storing density function values for\n",
    "# further analysis\n",
    "pdf_list = []\n",
    "\n",
    "# Iterating over different covariance values\n",
    "for idx, val in enumerate(cov_val):\n",
    "\t\n",
    "\t# Initializing the covariance matrix\n",
    "\tcov = np.array([[1, val], [val, 1]])\n",
    "\t\n",
    "\t# Generating a Gaussian bivariate distribution\n",
    "\t# with given mean and covariance matrix\n",
    "\tdistr = multivariate_normal(cov = cov, mean = mean,\n",
    "\t\t\t\t\t\t\t\tseed = random_seed)\n",
    "\t\n",
    "\t# Generating a meshgrid complacent with\n",
    "\t# the 3-sigma boundary\n",
    "\tmean_1, mean_2 = mean[0], mean[1]\n",
    "\tsigma_1, sigma_2 = cov[0,0], cov[1,1]\n",
    "\t\n",
    "\tx = np.linspace(-3*sigma_1, 3*sigma_1, num=100)\n",
    "\ty = np.linspace(-3*sigma_2, 3*sigma_2, num=100)\n",
    "\tX, Y = np.meshgrid(x,y)\n",
    "\t\n",
    "\t# Generating the density function\n",
    "\t# for each point in the meshgrid\n",
    "\tpdf = np.zeros(X.shape)\n",
    "\tfor i in range(X.shape[0]):\n",
    "\t\tfor j in range(X.shape[1]):\n",
    "\t\t\tpdf[i,j] = distr.pdf([X[i,j], Y[i,j]])\n",
    "\t\n",
    "\t# Plotting the density function values\n",
    "\tkey = 131+idx\n",
    "\tax = fig.add_subplot(key, projection = '3d')\n",
    "\tax.plot_surface(X, Y, pdf, cmap = 'viridis')\n",
    "\tplt.xlabel(\"x1\")\n",
    "\tplt.ylabel(\"x2\")\n",
    "\tplt.title(f'Covariance between x1 and x2 = {val}')\n",
    "\tpdf_list.append(pdf)\n",
    "\tax.axes.zaxis.set_ticks([])\n",
    "\n",
    "plt.tight_layout()\n",
    "plt.show()\n",
    "\n",
    "# Plotting contour plots\n",
    "for idx, val in enumerate(pdf_list):\n",
    "\tplt.subplot(1,3,idx+1)\n",
    "\tplt.contourf(X, Y, val, cmap='viridis')\n",
    "\tplt.xlabel(\"x1\")\n",
    "\tplt.ylabel(\"x2\")\n",
    "\tplt.title(f'Covariance between x1 and x2 = {cov_val[idx]}')\n",
    "plt.tight_layout()\n",
    "plt.show()\n"
   ]
  },
  {
   "attachments": {},
   "cell_type": "markdown",
   "metadata": {},
   "source": [
    "This looks promising. Maybe find a better way to plot?"
   ]
  },
  {
   "attachments": {},
   "cell_type": "markdown",
   "metadata": {},
   "source": [
    "# Part Three: Beta Distribution"
   ]
  },
  {
   "cell_type": "code",
   "execution_count": 124,
   "metadata": {},
   "outputs": [],
   "source": [
    "from scipy.stats import beta\n",
    "\n",
    "class BetaDistribution(ContinuousDistribution):\n",
    "    def __init__(self, a, b):\n",
    "        self.a = a\n",
    "        self.b = b\n",
    "        self.data = None\n",
    "\n",
    "    def import_data(self, file_path):\n",
    "        # implement import data method for BetaDistribution\n",
    "        self.data = pd.read_csv(file_path)\n",
    "\n",
    "    def export_data(self, data, file_path):\n",
    "        # implement export data method for BetaDistribution\n",
    "        pass\n",
    "\n",
    "    def compute_mean(self, data):\n",
    "        # implement compute mean method for BetaDistribution\n",
    "        pass\n",
    "\n",
    "    def compute_standard_deviation(self, data):\n",
    "        # implement compute standard deviation method for BetaDistribution\n",
    "        pass\n",
    "\n",
    "    def visualize(self, data=None):\n",
    "        # create a range of x values\n",
    "        x = np.linspace(0, 1, 100)\n",
    "\n",
    "        # calculate the beta PDF for the given parameters a and b\n",
    "        y = beta.pdf(x, self.a, self.b)\n",
    "\n",
    "        # plot the beta PDF\n",
    "        plt.plot(x, y, label='Beta PDF')\n",
    "\n",
    "        # plot the mean and standard deviation lines\n",
    "        mean = beta.mean(self.a, self.b)\n",
    "        std = beta.std(self.a, self.b)\n",
    "        plt.axvline(mean, color='red', label=f'Mean={mean:.2f}')\n",
    "        plt.axvline(mean - std, linestyle='--', color='green', label=f'Std Dev={std:.2f}')\n",
    "        plt.axvline(mean + std, linestyle='--', color='green')\n",
    "\n",
    "        # set the plot title and legend\n",
    "        plt.title(f'Beta Distribution (a={self.a}, b={self.b})')\n",
    "        plt.legend()\n",
    "\n",
    "        # show the plot\n",
    "        plt.show()\n",
    "    \n",
    "    def visualize_book(self, data=None):\n",
    "        # create a range of x values\n",
    "        x = np.linspace(0, 1, 100)\n",
    "\n",
    "        # calculate the beta PDF for the given parameters a and b\n",
    "        y1 = beta.pdf(x, 0.5, 0.5)\n",
    "        y2 = beta.pdf(x, 2, 5)\n",
    "        y3 = beta.pdf(x, 5, 2)\n",
    "\n",
    "        # plot the beta PDF\n",
    "        plt.plot(x, y1, label='a=b=0.5')\n",
    "        plt.plot(x, y2, label='a=2, b=5')\n",
    "        plt.plot(x, y3, label='a=5, b=2')\n",
    "\n",
    "        # plot the mean and standard deviation lines\n",
    "        # mean = beta.mean(self.a, self.b)\n",
    "        # std = beta.std(self.a, self.b)\n",
    "        # plt.axvline(mean, color='red', label=f'Mean={mean:.2f}')\n",
    "        # plt.axvline(mean - std, linestyle='--', color='green', label=f'Std Dev={std:.2f}')\n",
    "        # plt.axvline(mean + std, linestyle='--', color='green')\n",
    "\n",
    "        # fig = plt.figure(figsize=(10, 5))\n",
    "        # ax1 = fig.add_subplot(1, 2, 1)\n",
    "        # ax2 = fig.add_subplot(1, 2, 2)\n",
    "        # ax3 = fig.add_subplot(1, 2, 2)\n",
    "\n",
    "        # ax1.plot(x, y1, c='blue', alpha=0.5)\n",
    "        # ax1.set_xlabel('x')\n",
    "        # ax1.set_ylabel('y')\n",
    "        # ax1.set_zlabel('z')\n",
    "        # ax1.set_title('Data from File')\n",
    "        \n",
    "        # set the plot title and legend\n",
    "        plt.title(f'Beta Distribution')\n",
    "        plt.legend()\n",
    "\n",
    "        # show the plot\n",
    "        plt.show()\n",
    "\n",
    "    def generate_samples(self, n_samples):\n",
    "        # generate beta distributed samples using the given parameters a and b\n",
    "        return beta.rvs(self.a, self.b, size=n_samples)"
   ]
  },
  {
   "cell_type": "code",
   "execution_count": 125,
   "metadata": {},
   "outputs": [
    {
     "name": "stderr",
     "output_type": "stream",
     "text": [
      "/home/codespace/.local/lib/python3.10/site-packages/mpl_toolkits/mplot3d/proj3d.py:180: RuntimeWarning: invalid value encountered in divide\n",
      "  txs, tys, tzs = vecw[0]/w, vecw[1]/w, vecw[2]/w\n"
     ]
    }
   ],
   "source": [
    "bt = BetaDistribution(0.5,0.5)\n",
    "bt.import_data('MGD.csv')\n",
    "bt.visualize(bt.data)"
   ]
  },
  {
   "cell_type": "code",
   "execution_count": 126,
   "metadata": {},
   "outputs": [
    {
     "name": "stderr",
     "output_type": "stream",
     "text": [
      "/home/codespace/.local/lib/python3.10/site-packages/mpl_toolkits/mplot3d/proj3d.py:180: RuntimeWarning: invalid value encountered in divide\n",
      "  txs, tys, tzs = vecw[0]/w, vecw[1]/w, vecw[2]/w\n"
     ]
    }
   ],
   "source": [
    "bt = BetaDistribution(None, None)\n",
    "bt.import_data('MGD.csv')\n",
    "bt.visualize_book(bt.data)"
   ]
  }
 ],
 "metadata": {
  "kernelspec": {
   "display_name": "Python 3",
   "language": "python",
   "name": "python3"
  },
  "language_info": {
   "codemirror_mode": {
    "name": "ipython",
    "version": 3
   },
   "file_extension": ".py",
   "mimetype": "text/x-python",
   "name": "python",
   "nbconvert_exporter": "python",
   "pygments_lexer": "ipython3",
   "version": "3.10.4"
  },
  "orig_nbformat": 4
 },
 "nbformat": 4,
 "nbformat_minor": 2
}
